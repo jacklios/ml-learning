{
 "metadata": {
  "language_info": {
   "codemirror_mode": {
    "name": "ipython",
    "version": 3
   },
   "file_extension": ".py",
   "mimetype": "text/x-python",
   "name": "python",
   "nbconvert_exporter": "python",
   "pygments_lexer": "ipython3",
   "version": "3.8.0"
  },
  "orig_nbformat": 2,
  "kernelspec": {
   "name": "python380jvsc74a57bd094a3a12aa99338520ba7eec28bacbf9c001309647d708dbf7b7f82cb4d328f6a",
   "display_name": "Python 3.8.0 64-bit"
  },
  "metadata": {
   "interpreter": {
    "hash": "94a3a12aa99338520ba7eec28bacbf9c001309647d708dbf7b7f82cb4d328f6a"
   }
  }
 },
 "nbformat": 4,
 "nbformat_minor": 2,
 "cells": [
  {
   "source": [
    "# 鸢尾花分类\n",
    "\n",
    "### 问题分析\n",
    "- 监督学习： 已知鸢尾花品种\n",
    "- 分类问题： 要从多个选项中预测其中一个，所以是一个分类问题； 因为每个鸢尾花都是三种类型之一，所以是一个三分类问题\n",
    "- 类别（Class): 可能的输出（鸢尾花的不同品种）叫做类别"
   ],
   "cell_type": "markdown",
   "metadata": {}
  },
  {
   "cell_type": "code",
   "execution_count": 149,
   "metadata": {},
   "outputs": [
    {
     "output_type": "stream",
     "name": "stdout",
     "text": [
      "Keys of iris_data: \ndict_keys(['data', 'target', 'frame', 'target_names', 'DESCR', 'feature_names', 'filename'])\n"
     ]
    }
   ],
   "source": [
    "# 1. 初始数据： \n",
    "# scikit-learn的datasets模块中包含了鸢尾花（Iris）数据集，可以直接加载使用\n",
    "from sklearn.datasets import load_iris\n",
    "iris_data = load_iris()\n",
    "\n",
    "print(\"Keys of iris_data: \\n{}\".format(iris_data.keys()))"
   ]
  },
  {
   "cell_type": "code",
   "execution_count": 150,
   "metadata": {},
   "outputs": [
    {
     "output_type": "stream",
     "name": "stdout",
     "text": [
      ".. _iris_dataset:\n\nIris plants dataset\n--------------------\n\n**Data Set Characteristics:**\n\n    :Number of Instances: 150 (50 in each of three classes)\n    :Number of Attributes: 4 numeric, pre\n...\n"
     ]
    }
   ],
   "source": [
    "print(iris_data['DESCR'][:193] +\"\\n...\")"
   ]
  },
  {
   "cell_type": "code",
   "execution_count": 151,
   "metadata": {},
   "outputs": [
    {
     "output_type": "stream",
     "name": "stdout",
     "text": [
      "target_names：: \n['setosa' 'versicolor' 'virginica']\n"
     ]
    }
   ],
   "source": [
    "# target_names： 字符串数组，要预测的花的品种\n",
    "print(\"target_names：: \\n{}\".format(iris_data[\"target_names\"]))"
   ]
  },
  {
   "cell_type": "code",
   "execution_count": 152,
   "metadata": {},
   "outputs": [
    {
     "output_type": "stream",
     "name": "stdout",
     "text": [
      "feature_names: \n['sepal length (cm)', 'sepal width (cm)', 'petal length (cm)', 'petal width (cm)']\n"
     ]
    }
   ],
   "source": [
    "# feature_names: 字符串列表， 对每一个特征的说明\n",
    "print(\"feature_names: \\n{}\".format(iris_data[\"feature_names\"]))"
   ]
  },
  {
   "cell_type": "code",
   "execution_count": 153,
   "metadata": {},
   "outputs": [
    {
     "output_type": "stream",
     "name": "stdout",
     "text": [
      "Type of data: <class 'numpy.ndarray'>\n"
     ]
    }
   ],
   "source": [
    "# 特征包括： 花萼长度、花萼宽度、花瓣长度、花瓣宽度\n",
    "# 数据包含在target和data字段中\n",
    "print(\"Type of data: {}\".format(type(iris_data[\"data\"])))\n",
    "\n"
   ]
  },
  {
   "cell_type": "code",
   "execution_count": 154,
   "metadata": {},
   "outputs": [
    {
     "output_type": "stream",
     "name": "stdout",
     "text": [
      "Shape of data: (150, 4)\n"
     ]
    }
   ],
   "source": [
    "\n",
    "# 数组中包含150朵不同花的测量数据\n",
    "print(\"Shape of data: {}\".format(iris_data[\"data\"].shape))"
   ]
  },
  {
   "cell_type": "code",
   "execution_count": 155,
   "metadata": {},
   "outputs": [
    {
     "output_type": "stream",
     "name": "stdout",
     "text": [
      "First five rows of data: \n[[5.1 3.5 1.4 0.2]\n [4.9 3.  1.4 0.2]\n [4.7 3.2 1.3 0.2]\n [4.6 3.1 1.5 0.2]\n [5.  3.6 1.4 0.2]]\n"
     ]
    }
   ],
   "source": [
    "# 前5个样本的特征数值\n",
    "print(\"First five rows of data: \\n{}\".format(iris_data[\"data\"][:5]))"
   ]
  },
  {
   "cell_type": "code",
   "execution_count": 156,
   "metadata": {},
   "outputs": [
    {
     "output_type": "stream",
     "name": "stdout",
     "text": [
      "Type of target: <class 'numpy.ndarray'>\nShape of target: (150,)\nData of target: \n[0 0 0 0 0 0 0 0 0 0 0 0 0 0 0 0 0 0 0 0 0 0 0 0 0 0 0 0 0 0 0 0 0 0 0 0 0\n 0 0 0 0 0 0 0 0 0 0 0 0 0 1 1 1 1 1 1 1 1 1 1 1 1 1 1 1 1 1 1 1 1 1 1 1 1\n 1 1 1 1 1 1 1 1 1 1 1 1 1 1 1 1 1 1 1 1 1 1 1 1 1 1 2 2 2 2 2 2 2 2 2 2 2\n 2 2 2 2 2 2 2 2 2 2 2 2 2 2 2 2 2 2 2 2 2 2 2 2 2 2 2 2 2 2 2 2 2 2 2 2 2\n 2 2]\n"
     ]
    }
   ],
   "source": [
    "# target数组是一维数组， 每朵花对应其中一个数据\n",
    "print(\"Type of target: {}\".format(type(iris_data[\"target\"])))\n",
    "print(\"Shape of target: {}\".format(iris_data[\"target\"].shape))\n",
    "print(\"Data of target: \\n{}\".format(iris_data[\"target\"]))"
   ]
  },
  {
   "cell_type": "code",
   "execution_count": 157,
   "metadata": {},
   "outputs": [
    {
     "output_type": "stream",
     "name": "stdout",
     "text": [
      "X_train shape: (112, 4)\ny_train shape: (112,)\nX_test shape: (38, 4)\ny_test shape: (38,)\n"
     ]
    }
   ],
   "source": [
    "from sklearn.model_selection import train_test_split\n",
    "X_train, X_test, y_train, y_test = train_test_split(iris_data['data'], iris_data['target'], random_state=0)\n",
    "\n",
    "print(\"X_train shape: {}\".format(X_train.shape))\n",
    "print(\"y_train shape: {}\".format(y_train.shape))\n",
    "print(\"X_test shape: {}\".format(X_test.shape))\n",
    "print(\"y_test shape: {}\".format(y_test.shape))"
   ]
  },
  {
   "cell_type": "code",
   "execution_count": 158,
   "metadata": {},
   "outputs": [],
   "source": [
    "# 汇聚散列点矩阵\n",
    "import pandas as pd\n",
    "iris_dataframe = pd.DataFrame(X_train, columns=iris_data.feature_names)\n",
    "\n",
    "# 利用DataFrame创建散列点图矩阵, 按y_train着色\n",
    "#grr = pd.scatter_matrix(iris_dataframe, c=y_train, figsize=(15,15), marker='o', hist_kwds={\"bins\": 20}, s=60, alpha=.8, cmap=mglearn.cm3)"
   ]
  },
  {
   "cell_type": "code",
   "execution_count": 159,
   "metadata": {},
   "outputs": [],
   "source": [
    "from sklearn.neighbors import KNeighborsClassifier\n",
    "knn = KNeighborsClassifier(n_neighbors=20)"
   ]
  },
  {
   "cell_type": "code",
   "execution_count": 160,
   "metadata": {},
   "outputs": [
    {
     "output_type": "execute_result",
     "data": {
      "text/plain": [
       "KNeighborsClassifier(n_neighbors=20)"
      ]
     },
     "metadata": {},
     "execution_count": 160
    }
   ],
   "source": [
    "knn.fit(X_train, y_train)"
   ]
  },
  {
   "cell_type": "code",
   "execution_count": 161,
   "metadata": {},
   "outputs": [
    {
     "output_type": "stream",
     "name": "stdout",
     "text": [
      "X_new.shape:(1, 4)\n"
     ]
    }
   ],
   "source": [
    "import numpy as np\n",
    "X_new = np.array([[5, 2.9, 1, 0.2]])\n",
    "print(\"X_new.shape:{}\".format(X_new.shape))"
   ]
  },
  {
   "cell_type": "code",
   "execution_count": 162,
   "metadata": {},
   "outputs": [
    {
     "output_type": "stream",
     "name": "stdout",
     "text": [
      "Prediction: [0]\nPredicted target name: ['setosa']\n"
     ]
    }
   ],
   "source": [
    "# 预测\n",
    "prediction = knn.predict(X_new)\n",
    "print(\"Prediction: {}\".format(prediction))\n",
    "print(\"Predicted target name: {}\".format(iris_data['target_names'][prediction]))"
   ]
  },
  {
   "cell_type": "code",
   "execution_count": 163,
   "metadata": {},
   "outputs": [
    {
     "output_type": "stream",
     "name": "stdout",
     "text": [
      "Test set predictions:\n[2 1 0 2 0 2 0 1 1 1 2 1 1 1 1 0 1 1 0 0 2 1 0 0 2 0 0 1 1 0 2 1 0 2 2 1 0\n 2]\n"
     ]
    }
   ],
   "source": [
    "# 评估模型\n",
    "y_pred = knn.predict(X_test)\n",
    "print(\"Test set predictions:\\n{}\".format(y_pred))"
   ]
  },
  {
   "cell_type": "code",
   "execution_count": 164,
   "metadata": {},
   "outputs": [
    {
     "output_type": "stream",
     "name": "stdout",
     "text": [
      "Test set scor: 0.97\n"
     ]
    }
   ],
   "source": [
    "print(\"Test set scor: {:.2f}\".format(np.mean(y_pred == y_test)))"
   ]
  },
  {
   "cell_type": "code",
   "execution_count": 166,
   "metadata": {},
   "outputs": [
    {
     "output_type": "stream",
     "name": "stdout",
     "text": [
      "w[0]: 0.393906  b: -0.031804\n"
     ]
    },
    {
     "output_type": "display_data",
     "data": {
      "text/plain": "<Figure size 576x576 with 1 Axes>",
      "image/svg+xml": "<?xml version=\"1.0\" encoding=\"utf-8\" standalone=\"no\"?>\r\n<!DOCTYPE svg PUBLIC \"-//W3C//DTD SVG 1.1//EN\"\r\n  \"http://www.w3.org/Graphics/SVG/1.1/DTD/svg11.dtd\">\r\n<svg height=\"429.896307pt\" version=\"1.1\" viewBox=\"0 0 460.8 429.896307\" width=\"460.8pt\" xmlns=\"http://www.w3.org/2000/svg\" xmlns:xlink=\"http://www.w3.org/1999/xlink\">\r\n <metadata>\r\n  <rdf:RDF xmlns:cc=\"http://creativecommons.org/ns#\" xmlns:dc=\"http://purl.org/dc/elements/1.1/\" xmlns:rdf=\"http://www.w3.org/1999/02/22-rdf-syntax-ns#\">\r\n   <cc:Work>\r\n    <dc:type rdf:resource=\"http://purl.org/dc/dcmitype/StillImage\"/>\r\n    <dc:date>2021-06-22T22:25:28.181882</dc:date>\r\n    <dc:format>image/svg+xml</dc:format>\r\n    <dc:creator>\r\n     <cc:Agent>\r\n      <dc:title>Matplotlib v3.4.2, https://matplotlib.org/</dc:title>\r\n     </cc:Agent>\r\n    </dc:creator>\r\n   </cc:Work>\r\n  </rdf:RDF>\r\n </metadata>\r\n <defs>\r\n  <style type=\"text/css\">*{stroke-linecap:butt;stroke-linejoin:round;}</style>\r\n </defs>\r\n <g id=\"figure_1\">\r\n  <g id=\"patch_1\">\r\n   <path d=\"M 0 429.896307 \r\nL 460.8 429.896307 \r\nL 460.8 0 \r\nL 0 0 \r\nz\r\n\" style=\"fill:none;\"/>\r\n  </g>\r\n  <g id=\"axes_1\">\r\n   <g id=\"patch_2\">\r\n    <path d=\"M 7.2 416.817401 \r\nL 453.6 416.817401 \r\nL 453.6 10.999219 \r\nL 7.2 10.999219 \r\nz\r\n\" style=\"fill:#ffffff;\"/>\r\n   </g>\r\n   <g id=\"matplotlib.axis_1\">\r\n    <g id=\"xtick_1\">\r\n     <g id=\"line2d_1\">\r\n      <path clip-path=\"url(#p8a8ba92b18)\" d=\"M 27.490909 416.817401 \r\nL 27.490909 10.999219 \r\n\" style=\"fill:none;stroke:#b0b0b0;stroke-linecap:square;stroke-width:0.8;\"/>\r\n     </g>\r\n     <g id=\"line2d_2\">\r\n      <defs>\r\n       <path d=\"M 0 0 \r\nL 0 3.5 \r\n\" id=\"m838ac4f8c8\" style=\"stroke:#000000;stroke-width:0.8;\"/>\r\n      </defs>\r\n      <g>\r\n       <use style=\"stroke:#000000;stroke-width:0.8;\" x=\"27.490909\" xlink:href=\"#m838ac4f8c8\" y=\"213.90831\"/>\r\n      </g>\r\n     </g>\r\n     <g id=\"text_1\">\r\n      <!-- −3 -->\r\n      <g transform=\"translate(20.119815 228.506747)scale(0.1 -0.1)\">\r\n       <defs>\r\n        <path d=\"M 678 2272 \r\nL 4684 2272 \r\nL 4684 1741 \r\nL 678 1741 \r\nL 678 2272 \r\nz\r\n\" id=\"DejaVuSans-2212\" transform=\"scale(0.015625)\"/>\r\n        <path d=\"M 2597 2516 \r\nQ 3050 2419 3304 2112 \r\nQ 3559 1806 3559 1356 \r\nQ 3559 666 3084 287 \r\nQ 2609 -91 1734 -91 \r\nQ 1441 -91 1130 -33 \r\nQ 819 25 488 141 \r\nL 488 750 \r\nQ 750 597 1062 519 \r\nQ 1375 441 1716 441 \r\nQ 2309 441 2620 675 \r\nQ 2931 909 2931 1356 \r\nQ 2931 1769 2642 2001 \r\nQ 2353 2234 1838 2234 \r\nL 1294 2234 \r\nL 1294 2753 \r\nL 1863 2753 \r\nQ 2328 2753 2575 2939 \r\nQ 2822 3125 2822 3475 \r\nQ 2822 3834 2567 4026 \r\nQ 2313 4219 1838 4219 \r\nQ 1578 4219 1281 4162 \r\nQ 984 4106 628 3988 \r\nL 628 4550 \r\nQ 988 4650 1302 4700 \r\nQ 1616 4750 1894 4750 \r\nQ 2613 4750 3031 4423 \r\nQ 3450 4097 3450 3541 \r\nQ 3450 3153 3228 2886 \r\nQ 3006 2619 2597 2516 \r\nz\r\n\" id=\"DejaVuSans-33\" transform=\"scale(0.015625)\"/>\r\n       </defs>\r\n       <use xlink:href=\"#DejaVuSans-2212\"/>\r\n       <use x=\"83.789062\" xlink:href=\"#DejaVuSans-33\"/>\r\n      </g>\r\n     </g>\r\n    </g>\r\n    <g id=\"xtick_2\">\r\n     <g id=\"line2d_3\">\r\n      <path clip-path=\"url(#p8a8ba92b18)\" d=\"M 95.127273 416.817401 \r\nL 95.127273 10.999219 \r\n\" style=\"fill:none;stroke:#b0b0b0;stroke-linecap:square;stroke-width:0.8;\"/>\r\n     </g>\r\n     <g id=\"line2d_4\">\r\n      <g>\r\n       <use style=\"stroke:#000000;stroke-width:0.8;\" x=\"95.127273\" xlink:href=\"#m838ac4f8c8\" y=\"213.90831\"/>\r\n      </g>\r\n     </g>\r\n     <g id=\"text_2\">\r\n      <!-- −2 -->\r\n      <g transform=\"translate(87.756179 228.506747)scale(0.1 -0.1)\">\r\n       <defs>\r\n        <path d=\"M 1228 531 \r\nL 3431 531 \r\nL 3431 0 \r\nL 469 0 \r\nL 469 531 \r\nQ 828 903 1448 1529 \r\nQ 2069 2156 2228 2338 \r\nQ 2531 2678 2651 2914 \r\nQ 2772 3150 2772 3378 \r\nQ 2772 3750 2511 3984 \r\nQ 2250 4219 1831 4219 \r\nQ 1534 4219 1204 4116 \r\nQ 875 4013 500 3803 \r\nL 500 4441 \r\nQ 881 4594 1212 4672 \r\nQ 1544 4750 1819 4750 \r\nQ 2544 4750 2975 4387 \r\nQ 3406 4025 3406 3419 \r\nQ 3406 3131 3298 2873 \r\nQ 3191 2616 2906 2266 \r\nQ 2828 2175 2409 1742 \r\nQ 1991 1309 1228 531 \r\nz\r\n\" id=\"DejaVuSans-32\" transform=\"scale(0.015625)\"/>\r\n       </defs>\r\n       <use xlink:href=\"#DejaVuSans-2212\"/>\r\n       <use x=\"83.789062\" xlink:href=\"#DejaVuSans-32\"/>\r\n      </g>\r\n     </g>\r\n    </g>\r\n    <g id=\"xtick_3\">\r\n     <g id=\"line2d_5\">\r\n      <path clip-path=\"url(#p8a8ba92b18)\" d=\"M 162.763636 416.817401 \r\nL 162.763636 10.999219 \r\n\" style=\"fill:none;stroke:#b0b0b0;stroke-linecap:square;stroke-width:0.8;\"/>\r\n     </g>\r\n     <g id=\"line2d_6\">\r\n      <g>\r\n       <use style=\"stroke:#000000;stroke-width:0.8;\" x=\"162.763636\" xlink:href=\"#m838ac4f8c8\" y=\"213.90831\"/>\r\n      </g>\r\n     </g>\r\n     <g id=\"text_3\">\r\n      <!-- −1 -->\r\n      <g transform=\"translate(155.392543 228.506747)scale(0.1 -0.1)\">\r\n       <defs>\r\n        <path d=\"M 794 531 \r\nL 1825 531 \r\nL 1825 4091 \r\nL 703 3866 \r\nL 703 4441 \r\nL 1819 4666 \r\nL 2450 4666 \r\nL 2450 531 \r\nL 3481 531 \r\nL 3481 0 \r\nL 794 0 \r\nL 794 531 \r\nz\r\n\" id=\"DejaVuSans-31\" transform=\"scale(0.015625)\"/>\r\n       </defs>\r\n       <use xlink:href=\"#DejaVuSans-2212\"/>\r\n       <use x=\"83.789062\" xlink:href=\"#DejaVuSans-31\"/>\r\n      </g>\r\n     </g>\r\n    </g>\r\n    <g id=\"xtick_4\">\r\n     <g id=\"line2d_7\">\r\n      <path clip-path=\"url(#p8a8ba92b18)\" d=\"M 230.4 416.817401 \r\nL 230.4 10.999219 \r\n\" style=\"fill:none;stroke:#b0b0b0;stroke-linecap:square;stroke-width:0.8;\"/>\r\n     </g>\r\n     <g id=\"line2d_8\">\r\n      <g>\r\n       <use style=\"stroke:#000000;stroke-width:0.8;\" x=\"230.4\" xlink:href=\"#m838ac4f8c8\" y=\"213.90831\"/>\r\n      </g>\r\n     </g>\r\n     <g id=\"text_4\">\r\n      <!-- 0 -->\r\n      <g transform=\"translate(227.21875 228.506747)scale(0.1 -0.1)\">\r\n       <defs>\r\n        <path d=\"M 2034 4250 \r\nQ 1547 4250 1301 3770 \r\nQ 1056 3291 1056 2328 \r\nQ 1056 1369 1301 889 \r\nQ 1547 409 2034 409 \r\nQ 2525 409 2770 889 \r\nQ 3016 1369 3016 2328 \r\nQ 3016 3291 2770 3770 \r\nQ 2525 4250 2034 4250 \r\nz\r\nM 2034 4750 \r\nQ 2819 4750 3233 4129 \r\nQ 3647 3509 3647 2328 \r\nQ 3647 1150 3233 529 \r\nQ 2819 -91 2034 -91 \r\nQ 1250 -91 836 529 \r\nQ 422 1150 422 2328 \r\nQ 422 3509 836 4129 \r\nQ 1250 4750 2034 4750 \r\nz\r\n\" id=\"DejaVuSans-30\" transform=\"scale(0.015625)\"/>\r\n       </defs>\r\n       <use xlink:href=\"#DejaVuSans-30\"/>\r\n      </g>\r\n     </g>\r\n    </g>\r\n    <g id=\"xtick_5\">\r\n     <g id=\"line2d_9\">\r\n      <path clip-path=\"url(#p8a8ba92b18)\" d=\"M 298.036364 416.817401 \r\nL 298.036364 10.999219 \r\n\" style=\"fill:none;stroke:#b0b0b0;stroke-linecap:square;stroke-width:0.8;\"/>\r\n     </g>\r\n     <g id=\"line2d_10\">\r\n      <g>\r\n       <use style=\"stroke:#000000;stroke-width:0.8;\" x=\"298.036364\" xlink:href=\"#m838ac4f8c8\" y=\"213.90831\"/>\r\n      </g>\r\n     </g>\r\n     <g id=\"text_5\">\r\n      <!-- 1 -->\r\n      <g transform=\"translate(294.855114 228.506747)scale(0.1 -0.1)\">\r\n       <use xlink:href=\"#DejaVuSans-31\"/>\r\n      </g>\r\n     </g>\r\n    </g>\r\n    <g id=\"xtick_6\">\r\n     <g id=\"line2d_11\">\r\n      <path clip-path=\"url(#p8a8ba92b18)\" d=\"M 365.672727 416.817401 \r\nL 365.672727 10.999219 \r\n\" style=\"fill:none;stroke:#b0b0b0;stroke-linecap:square;stroke-width:0.8;\"/>\r\n     </g>\r\n     <g id=\"line2d_12\">\r\n      <g>\r\n       <use style=\"stroke:#000000;stroke-width:0.8;\" x=\"365.672727\" xlink:href=\"#m838ac4f8c8\" y=\"213.90831\"/>\r\n      </g>\r\n     </g>\r\n     <g id=\"text_6\">\r\n      <!-- 2 -->\r\n      <g transform=\"translate(362.491477 228.506747)scale(0.1 -0.1)\">\r\n       <use xlink:href=\"#DejaVuSans-32\"/>\r\n      </g>\r\n     </g>\r\n    </g>\r\n    <g id=\"xtick_7\">\r\n     <g id=\"line2d_13\">\r\n      <path clip-path=\"url(#p8a8ba92b18)\" d=\"M 433.309091 416.817401 \r\nL 433.309091 10.999219 \r\n\" style=\"fill:none;stroke:#b0b0b0;stroke-linecap:square;stroke-width:0.8;\"/>\r\n     </g>\r\n     <g id=\"line2d_14\">\r\n      <g>\r\n       <use style=\"stroke:#000000;stroke-width:0.8;\" x=\"433.309091\" xlink:href=\"#m838ac4f8c8\" y=\"213.90831\"/>\r\n      </g>\r\n     </g>\r\n     <g id=\"text_7\">\r\n      <!-- 3 -->\r\n      <g transform=\"translate(430.127841 228.506747)scale(0.1 -0.1)\">\r\n       <use xlink:href=\"#DejaVuSans-33\"/>\r\n      </g>\r\n     </g>\r\n    </g>\r\n   </g>\r\n   <g id=\"matplotlib.axis_2\">\r\n    <g id=\"ytick_1\">\r\n     <g id=\"line2d_15\">\r\n      <path clip-path=\"url(#p8a8ba92b18)\" d=\"M 7.2 416.817401 \r\nL 453.6 416.817401 \r\n\" style=\"fill:none;stroke:#b0b0b0;stroke-linecap:square;stroke-width:0.8;\"/>\r\n     </g>\r\n     <g id=\"line2d_16\">\r\n      <defs>\r\n       <path d=\"M 0 0 \r\nL -3.5 0 \r\n\" id=\"m1c48ae96aa\" style=\"stroke:#000000;stroke-width:0.8;\"/>\r\n      </defs>\r\n      <g>\r\n       <use style=\"stroke:#000000;stroke-width:0.8;\" x=\"230.4\" xlink:href=\"#m1c48ae96aa\" y=\"416.817401\"/>\r\n      </g>\r\n     </g>\r\n     <g id=\"text_8\">\r\n      <!-- −3 -->\r\n      <g transform=\"translate(208.657812 420.616619)scale(0.1 -0.1)\">\r\n       <use xlink:href=\"#DejaVuSans-2212\"/>\r\n       <use x=\"83.789062\" xlink:href=\"#DejaVuSans-33\"/>\r\n      </g>\r\n     </g>\r\n    </g>\r\n    <g id=\"ytick_2\">\r\n     <g id=\"line2d_17\">\r\n      <path clip-path=\"url(#p8a8ba92b18)\" d=\"M 7.2 349.181037 \r\nL 453.6 349.181037 \r\n\" style=\"fill:none;stroke:#b0b0b0;stroke-linecap:square;stroke-width:0.8;\"/>\r\n     </g>\r\n     <g id=\"line2d_18\">\r\n      <g>\r\n       <use style=\"stroke:#000000;stroke-width:0.8;\" x=\"230.4\" xlink:href=\"#m1c48ae96aa\" y=\"349.181037\"/>\r\n      </g>\r\n     </g>\r\n     <g id=\"text_9\">\r\n      <!-- −2 -->\r\n      <g transform=\"translate(208.657812 352.980256)scale(0.1 -0.1)\">\r\n       <use xlink:href=\"#DejaVuSans-2212\"/>\r\n       <use x=\"83.789062\" xlink:href=\"#DejaVuSans-32\"/>\r\n      </g>\r\n     </g>\r\n    </g>\r\n    <g id=\"ytick_3\">\r\n     <g id=\"line2d_19\">\r\n      <path clip-path=\"url(#p8a8ba92b18)\" d=\"M 7.2 281.544673 \r\nL 453.6 281.544673 \r\n\" style=\"fill:none;stroke:#b0b0b0;stroke-linecap:square;stroke-width:0.8;\"/>\r\n     </g>\r\n     <g id=\"line2d_20\">\r\n      <g>\r\n       <use style=\"stroke:#000000;stroke-width:0.8;\" x=\"230.4\" xlink:href=\"#m1c48ae96aa\" y=\"281.544673\"/>\r\n      </g>\r\n     </g>\r\n     <g id=\"text_10\">\r\n      <!-- −1 -->\r\n      <g transform=\"translate(208.657812 285.343892)scale(0.1 -0.1)\">\r\n       <use xlink:href=\"#DejaVuSans-2212\"/>\r\n       <use x=\"83.789062\" xlink:href=\"#DejaVuSans-31\"/>\r\n      </g>\r\n     </g>\r\n    </g>\r\n    <g id=\"ytick_4\">\r\n     <g id=\"line2d_21\">\r\n      <path clip-path=\"url(#p8a8ba92b18)\" d=\"M 7.2 213.90831 \r\nL 453.6 213.90831 \r\n\" style=\"fill:none;stroke:#b0b0b0;stroke-linecap:square;stroke-width:0.8;\"/>\r\n     </g>\r\n     <g id=\"line2d_22\">\r\n      <g>\r\n       <use style=\"stroke:#000000;stroke-width:0.8;\" x=\"230.4\" xlink:href=\"#m1c48ae96aa\" y=\"213.90831\"/>\r\n      </g>\r\n     </g>\r\n     <g id=\"text_11\">\r\n      <!-- 0 -->\r\n      <g transform=\"translate(217.0375 217.707528)scale(0.1 -0.1)\">\r\n       <use xlink:href=\"#DejaVuSans-30\"/>\r\n      </g>\r\n     </g>\r\n    </g>\r\n    <g id=\"ytick_5\">\r\n     <g id=\"line2d_23\">\r\n      <path clip-path=\"url(#p8a8ba92b18)\" d=\"M 7.2 146.271946 \r\nL 453.6 146.271946 \r\n\" style=\"fill:none;stroke:#b0b0b0;stroke-linecap:square;stroke-width:0.8;\"/>\r\n     </g>\r\n     <g id=\"line2d_24\">\r\n      <g>\r\n       <use style=\"stroke:#000000;stroke-width:0.8;\" x=\"230.4\" xlink:href=\"#m1c48ae96aa\" y=\"146.271946\"/>\r\n      </g>\r\n     </g>\r\n     <g id=\"text_12\">\r\n      <!-- 1 -->\r\n      <g transform=\"translate(217.0375 150.071165)scale(0.1 -0.1)\">\r\n       <use xlink:href=\"#DejaVuSans-31\"/>\r\n      </g>\r\n     </g>\r\n    </g>\r\n    <g id=\"ytick_6\">\r\n     <g id=\"line2d_25\">\r\n      <path clip-path=\"url(#p8a8ba92b18)\" d=\"M 7.2 78.635582 \r\nL 453.6 78.635582 \r\n\" style=\"fill:none;stroke:#b0b0b0;stroke-linecap:square;stroke-width:0.8;\"/>\r\n     </g>\r\n     <g id=\"line2d_26\">\r\n      <g>\r\n       <use style=\"stroke:#000000;stroke-width:0.8;\" x=\"230.4\" xlink:href=\"#m1c48ae96aa\" y=\"78.635582\"/>\r\n      </g>\r\n     </g>\r\n     <g id=\"text_13\">\r\n      <!-- 2 -->\r\n      <g transform=\"translate(217.0375 82.434801)scale(0.1 -0.1)\">\r\n       <use xlink:href=\"#DejaVuSans-32\"/>\r\n      </g>\r\n     </g>\r\n    </g>\r\n    <g id=\"ytick_7\">\r\n     <g id=\"line2d_27\">\r\n      <path clip-path=\"url(#p8a8ba92b18)\" d=\"M 7.2 10.999219 \r\nL 453.6 10.999219 \r\n\" style=\"fill:none;stroke:#b0b0b0;stroke-linecap:square;stroke-width:0.8;\"/>\r\n     </g>\r\n     <g id=\"line2d_28\">\r\n      <g>\r\n       <use style=\"stroke:#000000;stroke-width:0.8;\" x=\"230.4\" xlink:href=\"#m1c48ae96aa\" y=\"10.999219\"/>\r\n      </g>\r\n     </g>\r\n     <g id=\"text_14\">\r\n      <!-- 3 -->\r\n      <g transform=\"translate(217.0375 14.798437)scale(0.1 -0.1)\">\r\n       <use xlink:href=\"#DejaVuSans-33\"/>\r\n      </g>\r\n     </g>\r\n    </g>\r\n   </g>\r\n   <g id=\"line2d_29\">\r\n    <path clip-path=\"url(#p8a8ba92b18)\" d=\"M 27.490909 295.986457 \r\nL 31.590083 294.37177 \r\nL 35.689256 292.757083 \r\nL 39.78843 291.142395 \r\nL 43.887603 289.527708 \r\nL 47.986777 287.913021 \r\nL 52.08595 286.298334 \r\nL 56.185124 284.683647 \r\nL 60.284298 283.068959 \r\nL 64.383471 281.454272 \r\nL 68.482645 279.839585 \r\nL 72.581818 278.224898 \r\nL 76.680992 276.61021 \r\nL 80.780165 274.995523 \r\nL 84.879339 273.380836 \r\nL 88.978512 271.766149 \r\nL 93.077686 270.151462 \r\nL 97.17686 268.536774 \r\nL 101.276033 266.922087 \r\nL 105.375207 265.3074 \r\nL 109.47438 263.692713 \r\nL 113.573554 262.078025 \r\nL 117.672727 260.463338 \r\nL 121.771901 258.848651 \r\nL 125.871074 257.233964 \r\nL 129.970248 255.619277 \r\nL 134.069421 254.004589 \r\nL 138.168595 252.389902 \r\nL 142.267769 250.775215 \r\nL 146.366942 249.160528 \r\nL 150.466116 247.545841 \r\nL 154.565289 245.931153 \r\nL 158.664463 244.316466 \r\nL 162.763636 242.701779 \r\nL 166.86281 241.087092 \r\nL 170.961983 239.472404 \r\nL 175.061157 237.857717 \r\nL 179.160331 236.24303 \r\nL 183.259504 234.628343 \r\nL 187.358678 233.013656 \r\nL 191.457851 231.398968 \r\nL 195.557025 229.784281 \r\nL 199.656198 228.169594 \r\nL 203.755372 226.554907 \r\nL 207.854545 224.940219 \r\nL 211.953719 223.325532 \r\nL 216.052893 221.710845 \r\nL 220.152066 220.096158 \r\nL 224.25124 218.481471 \r\nL 228.350413 216.866783 \r\nL 232.449587 215.252096 \r\nL 236.54876 213.637409 \r\nL 240.647934 212.022722 \r\nL 244.747107 210.408035 \r\nL 248.846281 208.793347 \r\nL 252.945455 207.17866 \r\nL 257.044628 205.563973 \r\nL 261.143802 203.949286 \r\nL 265.242975 202.334598 \r\nL 269.342149 200.719911 \r\nL 273.441322 199.105224 \r\nL 277.540496 197.490537 \r\nL 281.639669 195.87585 \r\nL 285.738843 194.261162 \r\nL 289.838017 192.646475 \r\nL 293.93719 191.031788 \r\nL 298.036364 189.417101 \r\nL 302.135537 187.802413 \r\nL 306.234711 186.187726 \r\nL 310.333884 184.573039 \r\nL 314.433058 182.958352 \r\nL 318.532231 181.343665 \r\nL 322.631405 179.728977 \r\nL 326.730579 178.11429 \r\nL 330.829752 176.499603 \r\nL 334.928926 174.884916 \r\nL 339.028099 173.270228 \r\nL 343.127273 171.655541 \r\nL 347.226446 170.040854 \r\nL 351.32562 168.426167 \r\nL 355.424793 166.81148 \r\nL 359.523967 165.196792 \r\nL 363.62314 163.582105 \r\nL 367.722314 161.967418 \r\nL 371.821488 160.352731 \r\nL 375.920661 158.738044 \r\nL 380.019835 157.123356 \r\nL 384.119008 155.508669 \r\nL 388.218182 153.893982 \r\nL 392.317355 152.279295 \r\nL 396.416529 150.664607 \r\nL 400.515702 149.04992 \r\nL 404.614876 147.435233 \r\nL 408.71405 145.820546 \r\nL 412.813223 144.205859 \r\nL 416.912397 142.591171 \r\nL 421.01157 140.976484 \r\nL 425.110744 139.361797 \r\nL 429.209917 137.74711 \r\nL 433.309091 136.132422 \r\n\" style=\"fill:none;stroke:#1f77b4;stroke-linecap:square;stroke-width:1.5;\"/>\r\n   </g>\r\n   <g id=\"line2d_30\">\r\n    <defs>\r\n     <path d=\"M 0 3 \r\nC 0.795609 3 1.55874 2.683901 2.12132 2.12132 \r\nC 2.683901 1.55874 3 0.795609 3 0 \r\nC 3 -0.795609 2.683901 -1.55874 2.12132 -2.12132 \r\nC 1.55874 -2.683901 0.795609 -3 0 -3 \r\nC -0.795609 -3 -1.55874 -2.683901 -2.12132 -2.12132 \r\nC -2.683901 -1.55874 -3 -0.795609 -3 0 \r\nC -3 0.795609 -2.683901 1.55874 -2.12132 2.12132 \r\nC -1.55874 2.683901 -0.795609 3 0 3 \r\nz\r\n\" id=\"m648d07b44a\" style=\"stroke:#0000aa;\"/>\r\n    </defs>\r\n    <g clip-path=\"url(#p8a8ba92b18)\">\r\n     <use style=\"fill:#0000aa;stroke:#0000aa;\" x=\"179.486099\" xlink:href=\"#m648d07b44a\" y=\"293.768804\"/>\r\n     <use style=\"fill:#0000aa;stroke:#0000aa;\" x=\"413.30806\" xlink:href=\"#m648d07b44a\" y=\"180.079366\"/>\r\n     <use style=\"fill:#0000aa;stroke:#0000aa;\" x=\"324.54736\" xlink:href=\"#m648d07b44a\" y=\"204.592828\"/>\r\n     <use style=\"fill:#0000aa;stroke:#0000aa;\" x=\"270.437407\" xlink:href=\"#m648d07b44a\" y=\"134.505804\"/>\r\n     <use style=\"fill:#0000aa;stroke:#0000aa;\" x=\"90.80611\" xlink:href=\"#m648d07b44a\" y=\"303.212589\"/>\r\n     <use style=\"fill:#0000aa;stroke:#0000aa;\" x=\"90.796322\" xlink:href=\"#m648d07b44a\" y=\"374.453185\"/>\r\n     <use style=\"fill:#0000aa;stroke:#0000aa;\" x=\"51.062295\" xlink:href=\"#m648d07b44a\" y=\"261.333104\"/>\r\n     <use style=\"fill:#0000aa;stroke:#0000aa;\" x=\"379.000938\" xlink:href=\"#m648d07b44a\" y=\"132.52825\"/>\r\n     <use style=\"fill:#0000aa;stroke:#0000aa;\" x=\"271.43431\" xlink:href=\"#m648d07b44a\" y=\"194.115918\"/>\r\n     <use style=\"fill:#0000aa;stroke:#0000aa;\" x=\"314.839635\" xlink:href=\"#m648d07b44a\" y=\"183.491186\"/>\r\n     <use style=\"fill:#0000aa;stroke:#0000aa;\" x=\"35.844471\" xlink:href=\"#m648d07b44a\" y=\"246.811483\"/>\r\n     <use style=\"fill:#0000aa;stroke:#0000aa;\" x=\"421.097962\" xlink:href=\"#m648d07b44a\" y=\"119.545051\"/>\r\n     <use style=\"fill:#0000aa;stroke:#0000aa;\" x=\"365.311268\" xlink:href=\"#m648d07b44a\" y=\"141.277657\"/>\r\n     <use style=\"fill:#0000aa;stroke:#0000aa;\" x=\"113.661981\" xlink:href=\"#m648d07b44a\" y=\"302.402475\"/>\r\n     <use style=\"fill:#0000aa;stroke:#0000aa;\" x=\"101.278787\" xlink:href=\"#m648d07b44a\" y=\"300.285563\"/>\r\n     <use style=\"fill:#0000aa;stroke:#0000aa;\" x=\"101.919794\" xlink:href=\"#m648d07b44a\" y=\"277.875971\"/>\r\n     <use style=\"fill:#0000aa;stroke:#0000aa;\" x=\"150.957943\" xlink:href=\"#m648d07b44a\" y=\"236.019369\"/>\r\n     <use style=\"fill:#0000aa;stroke:#0000aa;\" x=\"240.44661\" xlink:href=\"#m648d07b44a\" y=\"196.231957\"/>\r\n     <use style=\"fill:#0000aa;stroke:#0000aa;\" x=\"202.782051\" xlink:href=\"#m648d07b44a\" y=\"298.883624\"/>\r\n     <use style=\"fill:#0000aa;stroke:#0000aa;\" x=\"145.676989\" xlink:href=\"#m648d07b44a\" y=\"264.396791\"/>\r\n     <use style=\"fill:#0000aa;stroke:#0000aa;\" x=\"275.791938\" xlink:href=\"#m648d07b44a\" y=\"148.807915\"/>\r\n     <use style=\"fill:#0000aa;stroke:#0000aa;\" x=\"84.100054\" xlink:href=\"#m648d07b44a\" y=\"264.798525\"/>\r\n     <use style=\"fill:#0000aa;stroke:#0000aa;\" x=\"146.048519\" xlink:href=\"#m648d07b44a\" y=\"225.982316\"/>\r\n     <use style=\"fill:#0000aa;stroke:#0000aa;\" x=\"176.167206\" xlink:href=\"#m648d07b44a\" y=\"204.866012\"/>\r\n     <use style=\"fill:#0000aa;stroke:#0000aa;\" x=\"212.572401\" xlink:href=\"#m648d07b44a\" y=\"239.999338\"/>\r\n     <use style=\"fill:#0000aa;stroke:#0000aa;\" x=\"346.12959\" xlink:href=\"#m648d07b44a\" y=\"159.866815\"/>\r\n     <use style=\"fill:#0000aa;stroke:#0000aa;\" x=\"108.52216\" xlink:href=\"#m648d07b44a\" y=\"289.62614\"/>\r\n     <use style=\"fill:#0000aa;stroke:#0000aa;\" x=\"236.176594\" xlink:href=\"#m648d07b44a\" y=\"147.676643\"/>\r\n     <use style=\"fill:#0000aa;stroke:#0000aa;\" x=\"267.903512\" xlink:href=\"#m648d07b44a\" y=\"169.387867\"/>\r\n     <use style=\"fill:#0000aa;stroke:#0000aa;\" x=\"46.341331\" xlink:href=\"#m648d07b44a\" y=\"219.411881\"/>\r\n     <use style=\"fill:#0000aa;stroke:#0000aa;\" x=\"274.043656\" xlink:href=\"#m648d07b44a\" y=\"262.702958\"/>\r\n     <use style=\"fill:#0000aa;stroke:#0000aa;\" x=\"96.692699\" xlink:href=\"#m648d07b44a\" y=\"286.736617\"/>\r\n     <use style=\"fill:#0000aa;stroke:#0000aa;\" x=\"53.890028\" xlink:href=\"#m648d07b44a\" y=\"270.509781\"/>\r\n     <use style=\"fill:#0000aa;stroke:#0000aa;\" x=\"412.565913\" xlink:href=\"#m648d07b44a\" y=\"165.923095\"/>\r\n     <use style=\"fill:#0000aa;stroke:#0000aa;\" x=\"419.361945\" xlink:href=\"#m648d07b44a\" y=\"149.598412\"/>\r\n     <use style=\"fill:#0000aa;stroke:#0000aa;\" x=\"355.553251\" xlink:href=\"#m648d07b44a\" y=\"188.132228\"/>\r\n     <use style=\"fill:#0000aa;stroke:#0000aa;\" x=\"151.108715\" xlink:href=\"#m648d07b44a\" y=\"227.173712\"/>\r\n     <use style=\"fill:#0000aa;stroke:#0000aa;\" x=\"67.128029\" xlink:href=\"#m648d07b44a\" y=\"275.721683\"/>\r\n     <use style=\"fill:#0000aa;stroke:#0000aa;\" x=\"305.165112\" xlink:href=\"#m648d07b44a\" y=\"158.944419\"/>\r\n     <use style=\"fill:#0000aa;stroke:#0000aa;\" x=\"206.112794\" xlink:href=\"#m648d07b44a\" y=\"277.091821\"/>\r\n     <use style=\"fill:#0000aa;stroke:#0000aa;\" x=\"77.016244\" xlink:href=\"#m648d07b44a\" y=\"329.655474\"/>\r\n     <use style=\"fill:#0000aa;stroke:#0000aa;\" x=\"228.442702\" xlink:href=\"#m648d07b44a\" y=\"235.761328\"/>\r\n     <use style=\"fill:#0000aa;stroke:#0000aa;\" x=\"41.446396\" xlink:href=\"#m648d07b44a\" y=\"244.150643\"/>\r\n     <use style=\"fill:#0000aa;stroke:#0000aa;\" x=\"396.509661\" xlink:href=\"#m648d07b44a\" y=\"132.871227\"/>\r\n     <use style=\"fill:#0000aa;stroke:#0000aa;\" x=\"132.508531\" xlink:href=\"#m648d07b44a\" y=\"264.737464\"/>\r\n     <use style=\"fill:#0000aa;stroke:#0000aa;\" x=\"296.354498\" xlink:href=\"#m648d07b44a\" y=\"186.845417\"/>\r\n     <use style=\"fill:#0000aa;stroke:#0000aa;\" x=\"153.988931\" xlink:href=\"#m648d07b44a\" y=\"215.643524\"/>\r\n     <use style=\"fill:#0000aa;stroke:#0000aa;\" x=\"238.543968\" xlink:href=\"#m648d07b44a\" y=\"161.413032\"/>\r\n     <use style=\"fill:#0000aa;stroke:#0000aa;\" x=\"249.355881\" xlink:href=\"#m648d07b44a\" y=\"197.717363\"/>\r\n     <use style=\"fill:#0000aa;stroke:#0000aa;\" x=\"102.508208\" xlink:href=\"#m648d07b44a\" y=\"321.336481\"/>\r\n     <use style=\"fill:#0000aa;stroke:#0000aa;\" x=\"420.96598\" xlink:href=\"#m648d07b44a\" y=\"164.438159\"/>\r\n     <use style=\"fill:#0000aa;stroke:#0000aa;\" x=\"342.053902\" xlink:href=\"#m648d07b44a\" y=\"196.936625\"/>\r\n     <use style=\"fill:#0000aa;stroke:#0000aa;\" x=\"408.756661\" xlink:href=\"#m648d07b44a\" y=\"145.202434\"/>\r\n     <use style=\"fill:#0000aa;stroke:#0000aa;\" x=\"390.628117\" xlink:href=\"#m648d07b44a\" y=\"126.692466\"/>\r\n     <use style=\"fill:#0000aa;stroke:#0000aa;\" x=\"270.129591\" xlink:href=\"#m648d07b44a\" y=\"169.800335\"/>\r\n     <use style=\"fill:#0000aa;stroke:#0000aa;\" x=\"401.604235\" xlink:href=\"#m648d07b44a\" y=\"158.031041\"/>\r\n     <use style=\"fill:#0000aa;stroke:#0000aa;\" x=\"63.402775\" xlink:href=\"#m648d07b44a\" y=\"330.519765\"/>\r\n     <use style=\"fill:#0000aa;stroke:#0000aa;\" x=\"107.024318\" xlink:href=\"#m648d07b44a\" y=\"318.517799\"/>\r\n     <use style=\"fill:#0000aa;stroke:#0000aa;\" x=\"45.844965\" xlink:href=\"#m648d07b44a\" y=\"284.068587\"/>\r\n     <use style=\"fill:#0000aa;stroke:#0000aa;\" x=\"159.515872\" xlink:href=\"#m648d07b44a\" y=\"247.139192\"/>\r\n    </g>\r\n   </g>\r\n   <g id=\"patch_3\">\r\n    <path d=\"M 230.4 416.817401 \r\nL 230.4 10.999219 \r\n\" style=\"fill:none;stroke:#000000;stroke-linecap:square;stroke-linejoin:miter;stroke-width:0.8;\"/>\r\n   </g>\r\n   <g id=\"patch_4\">\r\n    <path d=\"M 453.6 416.817401 \r\nL 453.6 10.999219 \r\n\" style=\"fill:none;\"/>\r\n   </g>\r\n   <g id=\"patch_5\">\r\n    <path d=\"M 7.2 213.90831 \r\nL 453.6 213.90831 \r\n\" style=\"fill:none;stroke:#000000;stroke-linecap:square;stroke-linejoin:miter;stroke-width:0.8;\"/>\r\n   </g>\r\n   <g id=\"patch_6\">\r\n    <path d=\"M 7.2 10.999219 \r\nL 453.6 10.999219 \r\n\" style=\"fill:none;\"/>\r\n   </g>\r\n   <g id=\"legend_1\">\r\n    <g id=\"patch_7\">\r\n     <path d=\"M 350.157812 48.355469 \r\nL 446.6 48.355469 \r\nQ 448.6 48.355469 448.6 46.355469 \r\nL 448.6 17.999219 \r\nQ 448.6 15.999219 446.6 15.999219 \r\nL 350.157812 15.999219 \r\nQ 348.157812 15.999219 348.157812 17.999219 \r\nL 348.157812 46.355469 \r\nQ 348.157812 48.355469 350.157812 48.355469 \r\nz\r\n\" style=\"fill:#ffffff;opacity:0.8;stroke:#cccccc;stroke-linejoin:miter;\"/>\r\n    </g>\r\n    <g id=\"line2d_31\">\r\n     <path d=\"M 352.157812 24.097656 \r\nL 372.157812 24.097656 \r\n\" style=\"fill:none;stroke:#1f77b4;stroke-linecap:square;stroke-width:1.5;\"/>\r\n    </g>\r\n    <g id=\"line2d_32\"/>\r\n    <g id=\"text_15\">\r\n     <!-- model -->\r\n     <g transform=\"translate(380.157812 27.597656)scale(0.1 -0.1)\">\r\n      <defs>\r\n       <path d=\"M 3328 2828 \r\nQ 3544 3216 3844 3400 \r\nQ 4144 3584 4550 3584 \r\nQ 5097 3584 5394 3201 \r\nQ 5691 2819 5691 2113 \r\nL 5691 0 \r\nL 5113 0 \r\nL 5113 2094 \r\nQ 5113 2597 4934 2840 \r\nQ 4756 3084 4391 3084 \r\nQ 3944 3084 3684 2787 \r\nQ 3425 2491 3425 1978 \r\nL 3425 0 \r\nL 2847 0 \r\nL 2847 2094 \r\nQ 2847 2600 2669 2842 \r\nQ 2491 3084 2119 3084 \r\nQ 1678 3084 1418 2786 \r\nQ 1159 2488 1159 1978 \r\nL 1159 0 \r\nL 581 0 \r\nL 581 3500 \r\nL 1159 3500 \r\nL 1159 2956 \r\nQ 1356 3278 1631 3431 \r\nQ 1906 3584 2284 3584 \r\nQ 2666 3584 2933 3390 \r\nQ 3200 3197 3328 2828 \r\nz\r\n\" id=\"DejaVuSans-6d\" transform=\"scale(0.015625)\"/>\r\n       <path d=\"M 1959 3097 \r\nQ 1497 3097 1228 2736 \r\nQ 959 2375 959 1747 \r\nQ 959 1119 1226 758 \r\nQ 1494 397 1959 397 \r\nQ 2419 397 2687 759 \r\nQ 2956 1122 2956 1747 \r\nQ 2956 2369 2687 2733 \r\nQ 2419 3097 1959 3097 \r\nz\r\nM 1959 3584 \r\nQ 2709 3584 3137 3096 \r\nQ 3566 2609 3566 1747 \r\nQ 3566 888 3137 398 \r\nQ 2709 -91 1959 -91 \r\nQ 1206 -91 779 398 \r\nQ 353 888 353 1747 \r\nQ 353 2609 779 3096 \r\nQ 1206 3584 1959 3584 \r\nz\r\n\" id=\"DejaVuSans-6f\" transform=\"scale(0.015625)\"/>\r\n       <path d=\"M 2906 2969 \r\nL 2906 4863 \r\nL 3481 4863 \r\nL 3481 0 \r\nL 2906 0 \r\nL 2906 525 \r\nQ 2725 213 2448 61 \r\nQ 2172 -91 1784 -91 \r\nQ 1150 -91 751 415 \r\nQ 353 922 353 1747 \r\nQ 353 2572 751 3078 \r\nQ 1150 3584 1784 3584 \r\nQ 2172 3584 2448 3432 \r\nQ 2725 3281 2906 2969 \r\nz\r\nM 947 1747 \r\nQ 947 1113 1208 752 \r\nQ 1469 391 1925 391 \r\nQ 2381 391 2643 752 \r\nQ 2906 1113 2906 1747 \r\nQ 2906 2381 2643 2742 \r\nQ 2381 3103 1925 3103 \r\nQ 1469 3103 1208 2742 \r\nQ 947 2381 947 1747 \r\nz\r\n\" id=\"DejaVuSans-64\" transform=\"scale(0.015625)\"/>\r\n       <path d=\"M 3597 1894 \r\nL 3597 1613 \r\nL 953 1613 \r\nQ 991 1019 1311 708 \r\nQ 1631 397 2203 397 \r\nQ 2534 397 2845 478 \r\nQ 3156 559 3463 722 \r\nL 3463 178 \r\nQ 3153 47 2828 -22 \r\nQ 2503 -91 2169 -91 \r\nQ 1331 -91 842 396 \r\nQ 353 884 353 1716 \r\nQ 353 2575 817 3079 \r\nQ 1281 3584 2069 3584 \r\nQ 2775 3584 3186 3129 \r\nQ 3597 2675 3597 1894 \r\nz\r\nM 3022 2063 \r\nQ 3016 2534 2758 2815 \r\nQ 2500 3097 2075 3097 \r\nQ 1594 3097 1305 2825 \r\nQ 1016 2553 972 2059 \r\nL 3022 2063 \r\nz\r\n\" id=\"DejaVuSans-65\" transform=\"scale(0.015625)\"/>\r\n       <path d=\"M 603 4863 \r\nL 1178 4863 \r\nL 1178 0 \r\nL 603 0 \r\nL 603 4863 \r\nz\r\n\" id=\"DejaVuSans-6c\" transform=\"scale(0.015625)\"/>\r\n      </defs>\r\n      <use xlink:href=\"#DejaVuSans-6d\"/>\r\n      <use x=\"97.412109\" xlink:href=\"#DejaVuSans-6f\"/>\r\n      <use x=\"158.59375\" xlink:href=\"#DejaVuSans-64\"/>\r\n      <use x=\"222.070312\" xlink:href=\"#DejaVuSans-65\"/>\r\n      <use x=\"283.59375\" xlink:href=\"#DejaVuSans-6c\"/>\r\n     </g>\r\n    </g>\r\n    <g id=\"line2d_33\"/>\r\n    <g id=\"line2d_34\">\r\n     <g>\r\n      <use style=\"fill:#0000aa;stroke:#0000aa;\" x=\"362.157812\" xlink:href=\"#m648d07b44a\" y=\"38.775781\"/>\r\n     </g>\r\n    </g>\r\n    <g id=\"text_16\">\r\n     <!-- training data -->\r\n     <g transform=\"translate(380.157812 42.275781)scale(0.1 -0.1)\">\r\n      <defs>\r\n       <path d=\"M 1172 4494 \r\nL 1172 3500 \r\nL 2356 3500 \r\nL 2356 3053 \r\nL 1172 3053 \r\nL 1172 1153 \r\nQ 1172 725 1289 603 \r\nQ 1406 481 1766 481 \r\nL 2356 481 \r\nL 2356 0 \r\nL 1766 0 \r\nQ 1100 0 847 248 \r\nQ 594 497 594 1153 \r\nL 594 3053 \r\nL 172 3053 \r\nL 172 3500 \r\nL 594 3500 \r\nL 594 4494 \r\nL 1172 4494 \r\nz\r\n\" id=\"DejaVuSans-74\" transform=\"scale(0.015625)\"/>\r\n       <path d=\"M 2631 2963 \r\nQ 2534 3019 2420 3045 \r\nQ 2306 3072 2169 3072 \r\nQ 1681 3072 1420 2755 \r\nQ 1159 2438 1159 1844 \r\nL 1159 0 \r\nL 581 0 \r\nL 581 3500 \r\nL 1159 3500 \r\nL 1159 2956 \r\nQ 1341 3275 1631 3429 \r\nQ 1922 3584 2338 3584 \r\nQ 2397 3584 2469 3576 \r\nQ 2541 3569 2628 3553 \r\nL 2631 2963 \r\nz\r\n\" id=\"DejaVuSans-72\" transform=\"scale(0.015625)\"/>\r\n       <path d=\"M 2194 1759 \r\nQ 1497 1759 1228 1600 \r\nQ 959 1441 959 1056 \r\nQ 959 750 1161 570 \r\nQ 1363 391 1709 391 \r\nQ 2188 391 2477 730 \r\nQ 2766 1069 2766 1631 \r\nL 2766 1759 \r\nL 2194 1759 \r\nz\r\nM 3341 1997 \r\nL 3341 0 \r\nL 2766 0 \r\nL 2766 531 \r\nQ 2569 213 2275 61 \r\nQ 1981 -91 1556 -91 \r\nQ 1019 -91 701 211 \r\nQ 384 513 384 1019 \r\nQ 384 1609 779 1909 \r\nQ 1175 2209 1959 2209 \r\nL 2766 2209 \r\nL 2766 2266 \r\nQ 2766 2663 2505 2880 \r\nQ 2244 3097 1772 3097 \r\nQ 1472 3097 1187 3025 \r\nQ 903 2953 641 2809 \r\nL 641 3341 \r\nQ 956 3463 1253 3523 \r\nQ 1550 3584 1831 3584 \r\nQ 2591 3584 2966 3190 \r\nQ 3341 2797 3341 1997 \r\nz\r\n\" id=\"DejaVuSans-61\" transform=\"scale(0.015625)\"/>\r\n       <path d=\"M 603 3500 \r\nL 1178 3500 \r\nL 1178 0 \r\nL 603 0 \r\nL 603 3500 \r\nz\r\nM 603 4863 \r\nL 1178 4863 \r\nL 1178 4134 \r\nL 603 4134 \r\nL 603 4863 \r\nz\r\n\" id=\"DejaVuSans-69\" transform=\"scale(0.015625)\"/>\r\n       <path d=\"M 3513 2113 \r\nL 3513 0 \r\nL 2938 0 \r\nL 2938 2094 \r\nQ 2938 2591 2744 2837 \r\nQ 2550 3084 2163 3084 \r\nQ 1697 3084 1428 2787 \r\nQ 1159 2491 1159 1978 \r\nL 1159 0 \r\nL 581 0 \r\nL 581 3500 \r\nL 1159 3500 \r\nL 1159 2956 \r\nQ 1366 3272 1645 3428 \r\nQ 1925 3584 2291 3584 \r\nQ 2894 3584 3203 3211 \r\nQ 3513 2838 3513 2113 \r\nz\r\n\" id=\"DejaVuSans-6e\" transform=\"scale(0.015625)\"/>\r\n       <path d=\"M 2906 1791 \r\nQ 2906 2416 2648 2759 \r\nQ 2391 3103 1925 3103 \r\nQ 1463 3103 1205 2759 \r\nQ 947 2416 947 1791 \r\nQ 947 1169 1205 825 \r\nQ 1463 481 1925 481 \r\nQ 2391 481 2648 825 \r\nQ 2906 1169 2906 1791 \r\nz\r\nM 3481 434 \r\nQ 3481 -459 3084 -895 \r\nQ 2688 -1331 1869 -1331 \r\nQ 1566 -1331 1297 -1286 \r\nQ 1028 -1241 775 -1147 \r\nL 775 -588 \r\nQ 1028 -725 1275 -790 \r\nQ 1522 -856 1778 -856 \r\nQ 2344 -856 2625 -561 \r\nQ 2906 -266 2906 331 \r\nL 2906 616 \r\nQ 2728 306 2450 153 \r\nQ 2172 0 1784 0 \r\nQ 1141 0 747 490 \r\nQ 353 981 353 1791 \r\nQ 353 2603 747 3093 \r\nQ 1141 3584 1784 3584 \r\nQ 2172 3584 2450 3431 \r\nQ 2728 3278 2906 2969 \r\nL 2906 3500 \r\nL 3481 3500 \r\nL 3481 434 \r\nz\r\n\" id=\"DejaVuSans-67\" transform=\"scale(0.015625)\"/>\r\n       <path id=\"DejaVuSans-20\" transform=\"scale(0.015625)\"/>\r\n      </defs>\r\n      <use xlink:href=\"#DejaVuSans-74\"/>\r\n      <use x=\"39.208984\" xlink:href=\"#DejaVuSans-72\"/>\r\n      <use x=\"80.322266\" xlink:href=\"#DejaVuSans-61\"/>\r\n      <use x=\"141.601562\" xlink:href=\"#DejaVuSans-69\"/>\r\n      <use x=\"169.384766\" xlink:href=\"#DejaVuSans-6e\"/>\r\n      <use x=\"232.763672\" xlink:href=\"#DejaVuSans-69\"/>\r\n      <use x=\"260.546875\" xlink:href=\"#DejaVuSans-6e\"/>\r\n      <use x=\"323.925781\" xlink:href=\"#DejaVuSans-67\"/>\r\n      <use x=\"387.402344\" xlink:href=\"#DejaVuSans-20\"/>\r\n      <use x=\"419.189453\" xlink:href=\"#DejaVuSans-64\"/>\r\n      <use x=\"482.666016\" xlink:href=\"#DejaVuSans-61\"/>\r\n      <use x=\"543.945312\" xlink:href=\"#DejaVuSans-74\"/>\r\n      <use x=\"583.154297\" xlink:href=\"#DejaVuSans-61\"/>\r\n     </g>\r\n    </g>\r\n   </g>\r\n  </g>\r\n </g>\r\n <defs>\r\n  <clipPath id=\"p8a8ba92b18\">\r\n   <rect height=\"405.818182\" width=\"446.4\" x=\"7.2\" y=\"10.999219\"/>\r\n  </clipPath>\r\n </defs>\r\n</svg>\r\n",
      "image/png": "[encoded data removed]"
     },
     "metadata": {
      "needs_background": "light"
     }
    }
   ],
   "source": [
    "import mglearn\n",
    "mglearn.plots.plot_linear_regression_wave()"
   ]
  },
  {
   "cell_type": "code",
   "execution_count": null,
   "metadata": {},
   "outputs": [],
   "source": []
  }
 ]
}